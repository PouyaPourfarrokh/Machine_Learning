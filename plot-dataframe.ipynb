{
 "cells": [
  {
   "cell_type": "code",
   "execution_count": 1,
   "metadata": {},
   "outputs": [
    {
     "name": "stderr",
     "output_type": "stream",
     "text": [
      "/Users/pouya/anaconda3/lib/python3.7/importlib/_bootstrap.py:219: RuntimeWarning: numpy.ufunc size changed, may indicate binary incompatibility. Expected 192 from C header, got 216 from PyObject\n",
      "  return f(*args, **kwds)\n"
     ]
    }
   ],
   "source": [
    "import matplotlib.pyplot as plt\n",
    "import pandas as pd\n",
    "import numpy as np"
   ]
  },
  {
   "cell_type": "code",
   "execution_count": 3,
   "metadata": {},
   "outputs": [
    {
     "data": {
      "text/html": [
       "<div>\n",
       "<style scoped>\n",
       "    .dataframe tbody tr th:only-of-type {\n",
       "        vertical-align: middle;\n",
       "    }\n",
       "\n",
       "    .dataframe tbody tr th {\n",
       "        vertical-align: top;\n",
       "    }\n",
       "\n",
       "    .dataframe thead th {\n",
       "        text-align: right;\n",
       "    }\n",
       "</style>\n",
       "<table border=\"1\" class=\"dataframe\">\n",
       "  <thead>\n",
       "    <tr style=\"text-align: right;\">\n",
       "      <th></th>\n",
       "      <th>a</th>\n",
       "      <th>b</th>\n",
       "      <th>c</th>\n",
       "      <th>d</th>\n",
       "    </tr>\n",
       "  </thead>\n",
       "  <tbody>\n",
       "    <tr>\n",
       "      <th>0</th>\n",
       "      <td>0.455388</td>\n",
       "      <td>0.495912</td>\n",
       "      <td>0.681913</td>\n",
       "      <td>0.371630</td>\n",
       "    </tr>\n",
       "    <tr>\n",
       "      <th>1</th>\n",
       "      <td>0.801000</td>\n",
       "      <td>0.180032</td>\n",
       "      <td>0.745684</td>\n",
       "      <td>0.363056</td>\n",
       "    </tr>\n",
       "    <tr>\n",
       "      <th>2</th>\n",
       "      <td>0.469541</td>\n",
       "      <td>0.330189</td>\n",
       "      <td>0.358629</td>\n",
       "      <td>0.438834</td>\n",
       "    </tr>\n",
       "    <tr>\n",
       "      <th>3</th>\n",
       "      <td>0.735264</td>\n",
       "      <td>0.173195</td>\n",
       "      <td>0.087288</td>\n",
       "      <td>0.478509</td>\n",
       "    </tr>\n",
       "    <tr>\n",
       "      <th>4</th>\n",
       "      <td>0.976008</td>\n",
       "      <td>0.088078</td>\n",
       "      <td>0.369090</td>\n",
       "      <td>0.984757</td>\n",
       "    </tr>\n",
       "    <tr>\n",
       "      <th>5</th>\n",
       "      <td>0.611429</td>\n",
       "      <td>0.457739</td>\n",
       "      <td>0.011387</td>\n",
       "      <td>0.923323</td>\n",
       "    </tr>\n",
       "    <tr>\n",
       "      <th>6</th>\n",
       "      <td>0.686677</td>\n",
       "      <td>0.552251</td>\n",
       "      <td>0.333378</td>\n",
       "      <td>0.844910</td>\n",
       "    </tr>\n",
       "    <tr>\n",
       "      <th>7</th>\n",
       "      <td>0.335660</td>\n",
       "      <td>0.523455</td>\n",
       "      <td>0.885378</td>\n",
       "      <td>0.123141</td>\n",
       "    </tr>\n",
       "    <tr>\n",
       "      <th>8</th>\n",
       "      <td>0.487391</td>\n",
       "      <td>0.363708</td>\n",
       "      <td>0.811056</td>\n",
       "      <td>0.499548</td>\n",
       "    </tr>\n",
       "    <tr>\n",
       "      <th>9</th>\n",
       "      <td>0.802561</td>\n",
       "      <td>0.123835</td>\n",
       "      <td>0.314328</td>\n",
       "      <td>0.035622</td>\n",
       "    </tr>\n",
       "    <tr>\n",
       "      <th>10</th>\n",
       "      <td>0.477680</td>\n",
       "      <td>0.936240</td>\n",
       "      <td>0.823207</td>\n",
       "      <td>0.757278</td>\n",
       "    </tr>\n",
       "    <tr>\n",
       "      <th>11</th>\n",
       "      <td>0.384315</td>\n",
       "      <td>0.610471</td>\n",
       "      <td>0.809927</td>\n",
       "      <td>0.841002</td>\n",
       "    </tr>\n",
       "    <tr>\n",
       "      <th>12</th>\n",
       "      <td>0.832862</td>\n",
       "      <td>0.955609</td>\n",
       "      <td>0.940334</td>\n",
       "      <td>0.115001</td>\n",
       "    </tr>\n",
       "    <tr>\n",
       "      <th>13</th>\n",
       "      <td>0.357570</td>\n",
       "      <td>0.264127</td>\n",
       "      <td>0.363887</td>\n",
       "      <td>0.060971</td>\n",
       "    </tr>\n",
       "    <tr>\n",
       "      <th>14</th>\n",
       "      <td>0.835419</td>\n",
       "      <td>0.560309</td>\n",
       "      <td>0.793651</td>\n",
       "      <td>0.544451</td>\n",
       "    </tr>\n",
       "    <tr>\n",
       "      <th>15</th>\n",
       "      <td>0.442721</td>\n",
       "      <td>0.331767</td>\n",
       "      <td>0.234960</td>\n",
       "      <td>0.800523</td>\n",
       "    </tr>\n",
       "    <tr>\n",
       "      <th>16</th>\n",
       "      <td>0.971990</td>\n",
       "      <td>0.116462</td>\n",
       "      <td>0.067801</td>\n",
       "      <td>0.510658</td>\n",
       "    </tr>\n",
       "    <tr>\n",
       "      <th>17</th>\n",
       "      <td>0.332336</td>\n",
       "      <td>0.530751</td>\n",
       "      <td>0.009840</td>\n",
       "      <td>0.019625</td>\n",
       "    </tr>\n",
       "    <tr>\n",
       "      <th>18</th>\n",
       "      <td>0.169859</td>\n",
       "      <td>0.072803</td>\n",
       "      <td>0.824251</td>\n",
       "      <td>0.772982</td>\n",
       "    </tr>\n",
       "    <tr>\n",
       "      <th>19</th>\n",
       "      <td>0.251748</td>\n",
       "      <td>0.514386</td>\n",
       "      <td>0.403503</td>\n",
       "      <td>0.269739</td>\n",
       "    </tr>\n",
       "    <tr>\n",
       "      <th>20</th>\n",
       "      <td>0.014321</td>\n",
       "      <td>0.400851</td>\n",
       "      <td>0.561058</td>\n",
       "      <td>0.887197</td>\n",
       "    </tr>\n",
       "    <tr>\n",
       "      <th>21</th>\n",
       "      <td>0.995232</td>\n",
       "      <td>0.894820</td>\n",
       "      <td>0.963903</td>\n",
       "      <td>0.620037</td>\n",
       "    </tr>\n",
       "    <tr>\n",
       "      <th>22</th>\n",
       "      <td>0.840173</td>\n",
       "      <td>0.281232</td>\n",
       "      <td>0.717042</td>\n",
       "      <td>0.384880</td>\n",
       "    </tr>\n",
       "    <tr>\n",
       "      <th>23</th>\n",
       "      <td>0.653831</td>\n",
       "      <td>0.387287</td>\n",
       "      <td>0.998413</td>\n",
       "      <td>0.761409</td>\n",
       "    </tr>\n",
       "    <tr>\n",
       "      <th>24</th>\n",
       "      <td>0.284589</td>\n",
       "      <td>0.417258</td>\n",
       "      <td>0.387657</td>\n",
       "      <td>0.759237</td>\n",
       "    </tr>\n",
       "    <tr>\n",
       "      <th>25</th>\n",
       "      <td>0.885654</td>\n",
       "      <td>0.115921</td>\n",
       "      <td>0.727418</td>\n",
       "      <td>0.659517</td>\n",
       "    </tr>\n",
       "    <tr>\n",
       "      <th>26</th>\n",
       "      <td>0.196653</td>\n",
       "      <td>0.513527</td>\n",
       "      <td>0.348976</td>\n",
       "      <td>0.036626</td>\n",
       "    </tr>\n",
       "    <tr>\n",
       "      <th>27</th>\n",
       "      <td>0.524131</td>\n",
       "      <td>0.109659</td>\n",
       "      <td>0.080513</td>\n",
       "      <td>0.270844</td>\n",
       "    </tr>\n",
       "    <tr>\n",
       "      <th>28</th>\n",
       "      <td>0.375804</td>\n",
       "      <td>0.796127</td>\n",
       "      <td>0.787609</td>\n",
       "      <td>0.741855</td>\n",
       "    </tr>\n",
       "    <tr>\n",
       "      <th>29</th>\n",
       "      <td>0.505821</td>\n",
       "      <td>0.619756</td>\n",
       "      <td>0.328166</td>\n",
       "      <td>0.451698</td>\n",
       "    </tr>\n",
       "    <tr>\n",
       "      <th>30</th>\n",
       "      <td>0.378770</td>\n",
       "      <td>0.514132</td>\n",
       "      <td>0.598219</td>\n",
       "      <td>0.089046</td>\n",
       "    </tr>\n",
       "    <tr>\n",
       "      <th>31</th>\n",
       "      <td>0.802510</td>\n",
       "      <td>0.051500</td>\n",
       "      <td>0.377562</td>\n",
       "      <td>0.190130</td>\n",
       "    </tr>\n",
       "    <tr>\n",
       "      <th>32</th>\n",
       "      <td>0.387803</td>\n",
       "      <td>0.589467</td>\n",
       "      <td>0.130347</td>\n",
       "      <td>0.607987</td>\n",
       "    </tr>\n",
       "    <tr>\n",
       "      <th>33</th>\n",
       "      <td>0.970366</td>\n",
       "      <td>0.719226</td>\n",
       "      <td>0.454328</td>\n",
       "      <td>0.687468</td>\n",
       "    </tr>\n",
       "    <tr>\n",
       "      <th>34</th>\n",
       "      <td>0.499240</td>\n",
       "      <td>0.942391</td>\n",
       "      <td>0.632591</td>\n",
       "      <td>0.579864</td>\n",
       "    </tr>\n",
       "    <tr>\n",
       "      <th>35</th>\n",
       "      <td>0.078284</td>\n",
       "      <td>0.660466</td>\n",
       "      <td>0.364075</td>\n",
       "      <td>0.180529</td>\n",
       "    </tr>\n",
       "    <tr>\n",
       "      <th>36</th>\n",
       "      <td>0.961159</td>\n",
       "      <td>0.666539</td>\n",
       "      <td>0.399636</td>\n",
       "      <td>0.762907</td>\n",
       "    </tr>\n",
       "    <tr>\n",
       "      <th>37</th>\n",
       "      <td>0.149163</td>\n",
       "      <td>0.453789</td>\n",
       "      <td>0.014170</td>\n",
       "      <td>0.096369</td>\n",
       "    </tr>\n",
       "    <tr>\n",
       "      <th>38</th>\n",
       "      <td>0.219513</td>\n",
       "      <td>0.867709</td>\n",
       "      <td>0.878023</td>\n",
       "      <td>0.106590</td>\n",
       "    </tr>\n",
       "    <tr>\n",
       "      <th>39</th>\n",
       "      <td>0.546742</td>\n",
       "      <td>0.574183</td>\n",
       "      <td>0.828590</td>\n",
       "      <td>0.387654</td>\n",
       "    </tr>\n",
       "    <tr>\n",
       "      <th>40</th>\n",
       "      <td>0.058794</td>\n",
       "      <td>0.880409</td>\n",
       "      <td>0.733782</td>\n",
       "      <td>0.167961</td>\n",
       "    </tr>\n",
       "    <tr>\n",
       "      <th>41</th>\n",
       "      <td>0.342046</td>\n",
       "      <td>0.109963</td>\n",
       "      <td>0.089882</td>\n",
       "      <td>0.874059</td>\n",
       "    </tr>\n",
       "    <tr>\n",
       "      <th>42</th>\n",
       "      <td>0.739747</td>\n",
       "      <td>0.974791</td>\n",
       "      <td>0.153739</td>\n",
       "      <td>0.287608</td>\n",
       "    </tr>\n",
       "    <tr>\n",
       "      <th>43</th>\n",
       "      <td>0.137559</td>\n",
       "      <td>0.578385</td>\n",
       "      <td>0.529441</td>\n",
       "      <td>0.241963</td>\n",
       "    </tr>\n",
       "    <tr>\n",
       "      <th>44</th>\n",
       "      <td>0.072192</td>\n",
       "      <td>0.972070</td>\n",
       "      <td>0.738474</td>\n",
       "      <td>0.235732</td>\n",
       "    </tr>\n",
       "    <tr>\n",
       "      <th>45</th>\n",
       "      <td>0.615476</td>\n",
       "      <td>0.364865</td>\n",
       "      <td>0.567946</td>\n",
       "      <td>0.012274</td>\n",
       "    </tr>\n",
       "    <tr>\n",
       "      <th>46</th>\n",
       "      <td>0.600177</td>\n",
       "      <td>0.485699</td>\n",
       "      <td>0.994134</td>\n",
       "      <td>0.448550</td>\n",
       "    </tr>\n",
       "    <tr>\n",
       "      <th>47</th>\n",
       "      <td>0.285103</td>\n",
       "      <td>0.147621</td>\n",
       "      <td>0.273697</td>\n",
       "      <td>0.624175</td>\n",
       "    </tr>\n",
       "    <tr>\n",
       "      <th>48</th>\n",
       "      <td>0.148973</td>\n",
       "      <td>0.872841</td>\n",
       "      <td>0.714295</td>\n",
       "      <td>0.270610</td>\n",
       "    </tr>\n",
       "    <tr>\n",
       "      <th>49</th>\n",
       "      <td>0.029942</td>\n",
       "      <td>0.691301</td>\n",
       "      <td>0.109122</td>\n",
       "      <td>0.687758</td>\n",
       "    </tr>\n",
       "  </tbody>\n",
       "</table>\n",
       "</div>"
      ],
      "text/plain": [
       "           a         b         c         d\n",
       "0   0.455388  0.495912  0.681913  0.371630\n",
       "1   0.801000  0.180032  0.745684  0.363056\n",
       "2   0.469541  0.330189  0.358629  0.438834\n",
       "3   0.735264  0.173195  0.087288  0.478509\n",
       "4   0.976008  0.088078  0.369090  0.984757\n",
       "5   0.611429  0.457739  0.011387  0.923323\n",
       "6   0.686677  0.552251  0.333378  0.844910\n",
       "7   0.335660  0.523455  0.885378  0.123141\n",
       "8   0.487391  0.363708  0.811056  0.499548\n",
       "9   0.802561  0.123835  0.314328  0.035622\n",
       "10  0.477680  0.936240  0.823207  0.757278\n",
       "11  0.384315  0.610471  0.809927  0.841002\n",
       "12  0.832862  0.955609  0.940334  0.115001\n",
       "13  0.357570  0.264127  0.363887  0.060971\n",
       "14  0.835419  0.560309  0.793651  0.544451\n",
       "15  0.442721  0.331767  0.234960  0.800523\n",
       "16  0.971990  0.116462  0.067801  0.510658\n",
       "17  0.332336  0.530751  0.009840  0.019625\n",
       "18  0.169859  0.072803  0.824251  0.772982\n",
       "19  0.251748  0.514386  0.403503  0.269739\n",
       "20  0.014321  0.400851  0.561058  0.887197\n",
       "21  0.995232  0.894820  0.963903  0.620037\n",
       "22  0.840173  0.281232  0.717042  0.384880\n",
       "23  0.653831  0.387287  0.998413  0.761409\n",
       "24  0.284589  0.417258  0.387657  0.759237\n",
       "25  0.885654  0.115921  0.727418  0.659517\n",
       "26  0.196653  0.513527  0.348976  0.036626\n",
       "27  0.524131  0.109659  0.080513  0.270844\n",
       "28  0.375804  0.796127  0.787609  0.741855\n",
       "29  0.505821  0.619756  0.328166  0.451698\n",
       "30  0.378770  0.514132  0.598219  0.089046\n",
       "31  0.802510  0.051500  0.377562  0.190130\n",
       "32  0.387803  0.589467  0.130347  0.607987\n",
       "33  0.970366  0.719226  0.454328  0.687468\n",
       "34  0.499240  0.942391  0.632591  0.579864\n",
       "35  0.078284  0.660466  0.364075  0.180529\n",
       "36  0.961159  0.666539  0.399636  0.762907\n",
       "37  0.149163  0.453789  0.014170  0.096369\n",
       "38  0.219513  0.867709  0.878023  0.106590\n",
       "39  0.546742  0.574183  0.828590  0.387654\n",
       "40  0.058794  0.880409  0.733782  0.167961\n",
       "41  0.342046  0.109963  0.089882  0.874059\n",
       "42  0.739747  0.974791  0.153739  0.287608\n",
       "43  0.137559  0.578385  0.529441  0.241963\n",
       "44  0.072192  0.972070  0.738474  0.235732\n",
       "45  0.615476  0.364865  0.567946  0.012274\n",
       "46  0.600177  0.485699  0.994134  0.448550\n",
       "47  0.285103  0.147621  0.273697  0.624175\n",
       "48  0.148973  0.872841  0.714295  0.270610\n",
       "49  0.029942  0.691301  0.109122  0.687758"
      ]
     },
     "execution_count": 3,
     "metadata": {},
     "output_type": "execute_result"
    }
   ],
   "source": [
    "df = pd.DataFrame(np.random.rand(50,4),columns=['a','b','c','d'])\n",
    "df"
   ]
  },
  {
   "cell_type": "code",
   "execution_count": 10,
   "metadata": {},
   "outputs": [
    {
     "data": {
      "text/plain": [
       "<matplotlib.legend.Legend at 0x11bd75550>"
      ]
     },
     "execution_count": 10,
     "metadata": {},
     "output_type": "execute_result"
    },
    {
     "data": {
      "image/png": "[encoded data removed]",
      "text/plain": [
       "<Figure size 432x288 with 1 Axes>"
      ]
     },
     "metadata": {
      "needs_background": "light"
     },
     "output_type": "display_data"
    }
   ],
   "source": [
    "#plt.subplot(211)\n",
    "k= df.plot.scatter(x='a',y='b', color='red',label='Group1')\n",
    "plt.legend()\n",
    "#plt.subplot(212)\n",
    "df.plot.scatter(x='c',y='d', color='blue',label='Group2',ax=k);\n",
    "plt.legend()"
   ]
  },
  {
   "cell_type": "code",
   "execution_count": 11,
   "metadata": {},
   "outputs": [
    {
     "data": {
      "text/html": [
       "<div>\n",
       "<style scoped>\n",
       "    .dataframe tbody tr th:only-of-type {\n",
       "        vertical-align: middle;\n",
       "    }\n",
       "\n",
       "    .dataframe tbody tr th {\n",
       "        vertical-align: top;\n",
       "    }\n",
       "\n",
       "    .dataframe thead th {\n",
       "        text-align: right;\n",
       "    }\n",
       "</style>\n",
       "<table border=\"1\" class=\"dataframe\">\n",
       "  <thead>\n",
       "    <tr style=\"text-align: right;\">\n",
       "      <th></th>\n",
       "      <th>a</th>\n",
       "      <th>b</th>\n",
       "      <th>c</th>\n",
       "      <th>d</th>\n",
       "    </tr>\n",
       "  </thead>\n",
       "  <tbody>\n",
       "    <tr>\n",
       "      <th>0</th>\n",
       "      <td>0.472548</td>\n",
       "      <td>0.796904</td>\n",
       "      <td>0.384631</td>\n",
       "      <td>0.274793</td>\n",
       "    </tr>\n",
       "    <tr>\n",
       "      <th>1</th>\n",
       "      <td>0.711231</td>\n",
       "      <td>0.449117</td>\n",
       "      <td>0.847817</td>\n",
       "      <td>0.939499</td>\n",
       "    </tr>\n",
       "    <tr>\n",
       "      <th>2</th>\n",
       "      <td>0.198170</td>\n",
       "      <td>0.043737</td>\n",
       "      <td>0.065775</td>\n",
       "      <td>0.643385</td>\n",
       "    </tr>\n",
       "    <tr>\n",
       "      <th>3</th>\n",
       "      <td>0.082330</td>\n",
       "      <td>0.979258</td>\n",
       "      <td>0.802559</td>\n",
       "      <td>0.448833</td>\n",
       "    </tr>\n",
       "    <tr>\n",
       "      <th>4</th>\n",
       "      <td>0.872333</td>\n",
       "      <td>0.275901</td>\n",
       "      <td>0.975516</td>\n",
       "      <td>0.826673</td>\n",
       "    </tr>\n",
       "    <tr>\n",
       "      <th>5</th>\n",
       "      <td>0.806412</td>\n",
       "      <td>0.744303</td>\n",
       "      <td>0.881581</td>\n",
       "      <td>0.236399</td>\n",
       "    </tr>\n",
       "    <tr>\n",
       "      <th>6</th>\n",
       "      <td>0.758154</td>\n",
       "      <td>0.053928</td>\n",
       "      <td>0.050201</td>\n",
       "      <td>0.324513</td>\n",
       "    </tr>\n",
       "    <tr>\n",
       "      <th>7</th>\n",
       "      <td>0.661499</td>\n",
       "      <td>0.181438</td>\n",
       "      <td>0.551105</td>\n",
       "      <td>0.644749</td>\n",
       "    </tr>\n",
       "    <tr>\n",
       "      <th>8</th>\n",
       "      <td>0.514019</td>\n",
       "      <td>0.949350</td>\n",
       "      <td>0.034618</td>\n",
       "      <td>0.676261</td>\n",
       "    </tr>\n",
       "    <tr>\n",
       "      <th>9</th>\n",
       "      <td>0.580800</td>\n",
       "      <td>0.864844</td>\n",
       "      <td>0.090711</td>\n",
       "      <td>0.729202</td>\n",
       "    </tr>\n",
       "  </tbody>\n",
       "</table>\n",
       "</div>"
      ],
      "text/plain": [
       "          a         b         c         d\n",
       "0  0.472548  0.796904  0.384631  0.274793\n",
       "1  0.711231  0.449117  0.847817  0.939499\n",
       "2  0.198170  0.043737  0.065775  0.643385\n",
       "3  0.082330  0.979258  0.802559  0.448833\n",
       "4  0.872333  0.275901  0.975516  0.826673\n",
       "5  0.806412  0.744303  0.881581  0.236399\n",
       "6  0.758154  0.053928  0.050201  0.324513\n",
       "7  0.661499  0.181438  0.551105  0.644749\n",
       "8  0.514019  0.949350  0.034618  0.676261\n",
       "9  0.580800  0.864844  0.090711  0.729202"
      ]
     },
     "execution_count": 11,
     "metadata": {},
     "output_type": "execute_result"
    }
   ],
   "source": [
    "df = pd.DataFrame(np.random.rand(10,4),columns=['a','b','c','d'])\n",
    "df"
   ]
  },
  {
   "cell_type": "code",
   "execution_count": 12,
   "metadata": {},
   "outputs": [
    {
     "data": {
      "text/plain": [
       "<matplotlib.axes._subplots.AxesSubplot at 0x11be55c88>"
      ]
     },
     "execution_count": 12,
     "metadata": {},
     "output_type": "execute_result"
    },
    {
     "data": {
      "image/png": "[encoded data removed]",
      "text/plain": [
       "<Figure size 432x288 with 1 Axes>"
      ]
     },
     "metadata": {
      "needs_background": "light"
     },
     "output_type": "display_data"
    }
   ],
   "source": [
    "df.plot.bar()"
   ]
  },
  {
   "cell_type": "code",
   "execution_count": 13,
   "metadata": {},
   "outputs": [
    {
     "data": {
      "image/png": "[encoded data removed]",
      "text/plain": [
       "<Figure size 432x288 with 1 Axes>"
      ]
     },
     "metadata": {
      "needs_background": "light"
     },
     "output_type": "display_data"
    }
   ],
   "source": [
    "df.plot.bar(stacked=True);"
   ]
  },
  {
   "cell_type": "code",
   "execution_count": 14,
   "metadata": {},
   "outputs": [
    {
     "data": {
      "text/html": [
       "<div>\n",
       "<style scoped>\n",
       "    .dataframe tbody tr th:only-of-type {\n",
       "        vertical-align: middle;\n",
       "    }\n",
       "\n",
       "    .dataframe tbody tr th {\n",
       "        vertical-align: top;\n",
       "    }\n",
       "\n",
       "    .dataframe thead th {\n",
       "        text-align: right;\n",
       "    }\n",
       "</style>\n",
       "<table border=\"1\" class=\"dataframe\">\n",
       "  <thead>\n",
       "    <tr style=\"text-align: right;\">\n",
       "      <th></th>\n",
       "      <th>a</th>\n",
       "      <th>b</th>\n",
       "      <th>c</th>\n",
       "      <th>d</th>\n",
       "      <th>e</th>\n",
       "    </tr>\n",
       "  </thead>\n",
       "  <tbody>\n",
       "    <tr>\n",
       "      <th>0</th>\n",
       "      <td>0.086244</td>\n",
       "      <td>0.674550</td>\n",
       "      <td>0.829113</td>\n",
       "      <td>0.471333</td>\n",
       "      <td>0.841103</td>\n",
       "    </tr>\n",
       "    <tr>\n",
       "      <th>1</th>\n",
       "      <td>0.302849</td>\n",
       "      <td>0.651418</td>\n",
       "      <td>0.396566</td>\n",
       "      <td>0.759273</td>\n",
       "      <td>0.595847</td>\n",
       "    </tr>\n",
       "    <tr>\n",
       "      <th>2</th>\n",
       "      <td>0.786334</td>\n",
       "      <td>0.300097</td>\n",
       "      <td>0.746868</td>\n",
       "      <td>0.112530</td>\n",
       "      <td>0.158347</td>\n",
       "    </tr>\n",
       "    <tr>\n",
       "      <th>3</th>\n",
       "      <td>0.829203</td>\n",
       "      <td>0.450332</td>\n",
       "      <td>0.367070</td>\n",
       "      <td>0.541013</td>\n",
       "      <td>0.744850</td>\n",
       "    </tr>\n",
       "    <tr>\n",
       "      <th>4</th>\n",
       "      <td>0.542340</td>\n",
       "      <td>0.613946</td>\n",
       "      <td>0.449789</td>\n",
       "      <td>0.216760</td>\n",
       "      <td>0.946000</td>\n",
       "    </tr>\n",
       "    <tr>\n",
       "      <th>5</th>\n",
       "      <td>0.842659</td>\n",
       "      <td>0.840290</td>\n",
       "      <td>0.093687</td>\n",
       "      <td>0.793551</td>\n",
       "      <td>0.417468</td>\n",
       "    </tr>\n",
       "    <tr>\n",
       "      <th>6</th>\n",
       "      <td>0.101928</td>\n",
       "      <td>0.931145</td>\n",
       "      <td>0.377646</td>\n",
       "      <td>0.564315</td>\n",
       "      <td>0.543389</td>\n",
       "    </tr>\n",
       "    <tr>\n",
       "      <th>7</th>\n",
       "      <td>0.870009</td>\n",
       "      <td>0.467832</td>\n",
       "      <td>0.705191</td>\n",
       "      <td>0.998286</td>\n",
       "      <td>0.948645</td>\n",
       "    </tr>\n",
       "    <tr>\n",
       "      <th>8</th>\n",
       "      <td>0.828308</td>\n",
       "      <td>0.796489</td>\n",
       "      <td>0.762806</td>\n",
       "      <td>0.281855</td>\n",
       "      <td>0.198313</td>\n",
       "    </tr>\n",
       "    <tr>\n",
       "      <th>9</th>\n",
       "      <td>0.649614</td>\n",
       "      <td>0.325254</td>\n",
       "      <td>0.691647</td>\n",
       "      <td>0.023131</td>\n",
       "      <td>0.833049</td>\n",
       "    </tr>\n",
       "  </tbody>\n",
       "</table>\n",
       "</div>"
      ],
      "text/plain": [
       "          a         b         c         d         e\n",
       "0  0.086244  0.674550  0.829113  0.471333  0.841103\n",
       "1  0.302849  0.651418  0.396566  0.759273  0.595847\n",
       "2  0.786334  0.300097  0.746868  0.112530  0.158347\n",
       "3  0.829203  0.450332  0.367070  0.541013  0.744850\n",
       "4  0.542340  0.613946  0.449789  0.216760  0.946000\n",
       "5  0.842659  0.840290  0.093687  0.793551  0.417468\n",
       "6  0.101928  0.931145  0.377646  0.564315  0.543389\n",
       "7  0.870009  0.467832  0.705191  0.998286  0.948645\n",
       "8  0.828308  0.796489  0.762806  0.281855  0.198313\n",
       "9  0.649614  0.325254  0.691647  0.023131  0.833049"
      ]
     },
     "execution_count": 14,
     "metadata": {},
     "output_type": "execute_result"
    }
   ],
   "source": [
    "df = pd.DataFrame(np.random.rand(10,5),columns=['a','b','c','d','e'])\n",
    "df"
   ]
  },
  {
   "cell_type": "code",
   "execution_count": 15,
   "metadata": {},
   "outputs": [
    {
     "data": {
      "image/png": "[encoded data removed]",
      "text/plain": [
       "<Figure size 432x288 with 1 Axes>"
      ]
     },
     "metadata": {
      "needs_background": "light"
     },
     "output_type": "display_data"
    }
   ],
   "source": [
    "df.plot.box();"
   ]
  },
  {
   "cell_type": "code",
   "execution_count": 16,
   "metadata": {},
   "outputs": [],
   "source": [
    "#pie"
   ]
  },
  {
   "cell_type": "code",
   "execution_count": 17,
   "metadata": {},
   "outputs": [],
   "source": [
    "l=['Python','Java','C++']\n",
    "s=[200,150,100]\n",
    "c=['green','red','yellow']"
   ]
  },
  {
   "cell_type": "code",
   "execution_count": 21,
   "metadata": {},
   "outputs": [
    {
     "data": {
      "image/png": "[encoded data removed]",
      "text/plain": [
       "<Figure size 432x288 with 1 Axes>"
      ]
     },
     "metadata": {},
     "output_type": "display_data"
    }
   ],
   "source": [
    "plt.pie(s,labels=l,colors=c);"
   ]
  },
  {
   "cell_type": "code",
   "execution_count": 22,
   "metadata": {},
   "outputs": [
    {
     "data": {
      "image/png": "[encoded data removed]",
      "text/plain": [
       "<Figure size 432x288 with 1 Axes>"
      ]
     },
     "metadata": {},
     "output_type": "display_data"
    }
   ],
   "source": [
    "plt.pie(s,labels=l,colors=c,autopct='%1.1f%%');"
   ]
  },
  {
   "cell_type": "code",
   "execution_count": 23,
   "metadata": {},
   "outputs": [
    {
     "data": {
      "image/png": "[encoded data removed]",
      "text/plain": [
       "<Figure size 432x288 with 1 Axes>"
      ]
     },
     "metadata": {},
     "output_type": "display_data"
    }
   ],
   "source": [
    "plt.pie(s,labels=l,colors=c,startangle=90);"
   ]
  },
  {
   "cell_type": "code",
   "execution_count": 29,
   "metadata": {},
   "outputs": [
    {
     "data": {
      "image/png": "[encoded data removed]",
      "text/plain": [
       "<Figure size 432x288 with 1 Axes>"
      ]
     },
     "metadata": {},
     "output_type": "display_data"
    }
   ],
   "source": [
    "plt.pie(s,labels=l,colors=c,explode=(0.1,.05,.05),shadow=True,autopct='%1.1f%%');"
   ]
  },
  {
   "cell_type": "code",
   "execution_count": 38,
   "metadata": {},
   "outputs": [
    {
     "data": {
      "text/plain": [
       "a    2.594415\n",
       "b    2.400862\n",
       "c    2.936532\n",
       "Name: series, dtype: float64"
      ]
     },
     "execution_count": 38,
     "metadata": {},
     "output_type": "execute_result"
    }
   ],
   "source": [
    "s= pd.Series(3*np.random.rand(3),index=['a','b','c'],name='series')\n",
    "s"
   ]
  },
  {
   "cell_type": "code",
   "execution_count": 39,
   "metadata": {},
   "outputs": [
    {
     "data": {
      "image/png": "[encoded data removed]",
      "text/plain": [
       "<Figure size 432x288 with 1 Axes>"
      ]
     },
     "metadata": {},
     "output_type": "display_data"
    }
   ],
   "source": [
    "s.plot.pie(autopct='%1.1f%%');"
   ]
  },
  {
   "cell_type": "code",
   "execution_count": 41,
   "metadata": {},
   "outputs": [
    {
     "data": {
      "text/html": [
       "<div>\n",
       "<style scoped>\n",
       "    .dataframe tbody tr th:only-of-type {\n",
       "        vertical-align: middle;\n",
       "    }\n",
       "\n",
       "    .dataframe tbody tr th {\n",
       "        vertical-align: top;\n",
       "    }\n",
       "\n",
       "    .dataframe thead th {\n",
       "        text-align: right;\n",
       "    }\n",
       "</style>\n",
       "<table border=\"1\" class=\"dataframe\">\n",
       "  <thead>\n",
       "    <tr style=\"text-align: right;\">\n",
       "      <th></th>\n",
       "      <th>x</th>\n",
       "      <th>y</th>\n",
       "    </tr>\n",
       "  </thead>\n",
       "  <tbody>\n",
       "    <tr>\n",
       "      <th>a</th>\n",
       "      <td>2.377593</td>\n",
       "      <td>2.235403</td>\n",
       "    </tr>\n",
       "    <tr>\n",
       "      <th>b</th>\n",
       "      <td>1.393497</td>\n",
       "      <td>0.825350</td>\n",
       "    </tr>\n",
       "    <tr>\n",
       "      <th>c</th>\n",
       "      <td>0.940186</td>\n",
       "      <td>2.301379</td>\n",
       "    </tr>\n",
       "    <tr>\n",
       "      <th>d</th>\n",
       "      <td>2.478523</td>\n",
       "      <td>0.706563</td>\n",
       "    </tr>\n",
       "  </tbody>\n",
       "</table>\n",
       "</div>"
      ],
      "text/plain": [
       "          x         y\n",
       "a  2.377593  2.235403\n",
       "b  1.393497  0.825350\n",
       "c  0.940186  2.301379\n",
       "d  2.478523  0.706563"
      ]
     },
     "execution_count": 41,
     "metadata": {},
     "output_type": "execute_result"
    }
   ],
   "source": [
    "df=pd.DataFrame(3*np.random.rand(4,2),index=['a','b','c','d'],columns=['x','y'])\n",
    "df"
   ]
  },
  {
   "cell_type": "code",
   "execution_count": 43,
   "metadata": {},
   "outputs": [
    {
     "data": {
      "image/png": "[encoded data removed]",
      "text/plain": [
       "<Figure size 1080x576 with 2 Axes>"
      ]
     },
     "metadata": {},
     "output_type": "display_data"
    }
   ],
   "source": [
    "df.plot.pie(subplots=True,figsize=(15,8));"
   ]
  },
  {
   "cell_type": "code",
   "execution_count": null,
   "metadata": {},
   "outputs": [],
   "source": []
  }
 ],
 "metadata": {
  "kernelspec": {
   "display_name": "Python 3",
   "language": "python",
   "name": "python3"
  },
  "language_info": {
   "codemirror_mode": {
    "name": "ipython",
    "version": 3
   },
   "file_extension": ".py",
   "mimetype": "text/x-python",
   "name": "python",
   "nbconvert_exporter": "python",
   "pygments_lexer": "ipython3",
   "version": "3.7.3"
  }
 },
 "nbformat": 4,
 "nbformat_minor": 2
}
